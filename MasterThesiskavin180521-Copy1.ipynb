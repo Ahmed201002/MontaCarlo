{
 "cells": [
  {
   "cell_type": "code",
   "execution_count": 26,
   "metadata": {},
   "outputs": [],
   "source": [
    "import numpy as np                                   #to o find the minimum argument of a list \n",
    "import math                                          #for defining our functions\n",
    "import random                                        #it will be used for sampling\n",
    "from matplotlib import pyplot as plt                 # help visualize our results \n",
    "from IPython.display import clear_output\n",
    "import pandas as pd\n",
    "import scipy.stats as stats\n",
    "PI = 3.1415926\n",
    "e = 2.71828 \n"
   ]
  },
  {
   "cell_type": "markdown",
   "metadata": {},
   "source": [
    "# (defining the function)"
   ]
  },
  {
   "cell_type": "code",
   "execution_count": 27,
   "metadata": {},
   "outputs": [],
   "source": [
    "# lets also define the function we want to calculate  over f(x)\n",
    "\n",
    "def f_of_x(w,h,t,epsilon_r):\n",
    "    aa=((epsilon_r+1)/2)\n",
    "    bb=((epsilon_r-1)/2)\n",
    "    cc=1/(math.sqrt(1+((12*h)/w)))\n",
    "\n",
    "    if w<h:\n",
    "        epsilon_effect=aa+(bb*(cc+(0.04*((1-(w/h))**2)))) #if w<h\n",
    "    else:\n",
    "        epsilon_effect=aa+(bb*cc) # else    \n",
    "    \n",
    "    \n",
    "    a=((t/h)**2)\n",
    "    b=(((1/PI)/((w/t)+1.1))**2)\n",
    "    delta_w=t/PI* np.log((4*e)/(a+b))\n",
    "    delta_w_prime=delta_w*((1+(1/epsilon_effect))/2)\n",
    "    w_prime=w+delta_w_prime\n",
    "    dd= (120*PI)/((2.0)*(math.sqrt(2.0))*(PI)*(math.sqrt(epsilon_r+1.0)))\n",
    "    ee=((14.0+(8.0/epsilon_effect))/11.0)*((4.0*h)/w_prime)\n",
    "    ff=(((14.0+(8.0/epsilon_effect))/11.0)**2.0)*((4.0*h/w_prime)**2.0)\n",
    "    gg=(PI**2)*((1.0+(1.0/epsilon_effect))/2.0)\n",
    "    hh=math.sqrt(ff+gg)\n",
    "    ii=((4.0*h)/w_prime)*(ee+hh)\n",
    "    z=dd*np.log(1.0+ii)\n",
    "    zz=round(z, 2)\n",
    "   \n",
    "    return zz+.73  # compensate the difference of the formular between (website and masterthesis)\n",
    "\n"
   ]
  },
  {
   "cell_type": "code",
   "execution_count": 28,
   "metadata": {},
   "outputs": [
    {
     "name": "stdout",
     "output_type": "stream",
     "text": [
      "50.0\n"
     ]
    }
   ],
   "source": [
    "print(f_of_x(0.246,0.150,0.050,4.53))"
   ]
  },
  {
   "cell_type": "code",
   "execution_count": null,
   "metadata": {},
   "outputs": [],
   "source": []
  },
  {
   "cell_type": "markdown",
   "metadata": {},
   "source": [
    "# (Generating random number in  a particular range )"
   ]
  },
  {
   "cell_type": "code",
   "execution_count": 29,
   "metadata": {},
   "outputs": [],
   "source": [
    "def get_rand_number(min_value, max_value):\n",
    "    \"\"\"\n",
    "    This function gets a random number from a uniform distribution between\n",
    "    the two input values [min_value, max_value] inclusively\n",
    "    Args:\n",
    "    - min_value (float)\n",
    "    - max_value (float)\n",
    "    Return:\n",
    "    - Random number between this range (float)\n",
    "    \"\"\"\n",
    "    range = max_value - min_value\n",
    "    choice = random.uniform(0,1)\n",
    "    return min_value + range*choice"
   ]
  },
  {
   "cell_type": "markdown",
   "metadata": {},
   "source": [
    "# Crude Monte Carlo\n"
   ]
  },
  {
   "cell_type": "code",
   "execution_count": 30,
   "metadata": {},
   "outputs": [],
   "source": [
    "def crude_monte_carlo( w_primary= 0.246,h_primary=0.150,t_primary=0.050,epsilon_r_primary= 4.53,num_samples=4000):\n",
    "    \n",
    "    y_probability=[]\n",
    "    sum_of_samples = 0\n",
    "    for i in range(num_samples):\n",
    "        epsilon_r = get_rand_number(epsilon_r_primary-0.31, epsilon_r_primary-0.31)\n",
    "        w = get_rand_number( w_primary-0.030, w_primary+0.030)\n",
    "        t = get_rand_number(t_primary-0.020, t_primary+0.020)\n",
    "        h = get_rand_number(h_primary-0.030, h_primary+0.030)\n",
    "        sum_of_samples += f_of_x(w,h,t,epsilon_r)\n",
    "        y_probability.append( f_of_x(w,h,t,epsilon_r))\n",
    "        Z_montacarlo=round(sum_of_samples/num_samples, 2)\n",
    "        \n",
    "    return  float(Z_montacarlo),y_probability"
   ]
  },
  {
   "cell_type": "markdown",
   "metadata": {},
   "source": [
    "# Test the algorithm"
   ]
  },
  {
   "cell_type": "code",
   "execution_count": 31,
   "metadata": {},
   "outputs": [
    {
     "name": "stdout",
     "output_type": "stream",
     "text": [
      "Monte Carlo Approximation of f(x): 51.53\n",
      "the length of produced output array = 50000 items\n"
     ]
    }
   ],
   "source": [
    "crude_estimation = crude_monte_carlo(0.246,0.150,0.050,4.53,50000)\n",
    "y_probability=crude_estimation[1]\n",
    "print(f\"Monte Carlo Approximation of f(x): {crude_estimation[0]}\")\n",
    "print(f\"the length of produced output array = {len(y_probability)} items\")"
   ]
  },
  {
   "cell_type": "code",
   "execution_count": 32,
   "metadata": {},
   "outputs": [
    {
     "name": "stdout",
     "output_type": "stream",
     "text": [
      "[49.279999999999994, 53.769999999999996, 48.779999999999994]\n"
     ]
    }
   ],
   "source": [
    "print(y_probability[1:4])"
   ]
  },
  {
   "cell_type": "code",
   "execution_count": 34,
   "metadata": {},
   "outputs": [
    {
     "data": {
      "image/png": "[encoded data removed]",
      "text/plain": [
       "<Figure size 648x648 with 1 Axes>"
      ]
     },
     "metadata": {
      "needs_background": "light"
     },
     "output_type": "display_data"
    }
   ],
   "source": [
    "pd.DataFrame(y_probability).plot(kind=\"density\",figsize=(9,9)); # Plot the distribution\n"
   ]
  },
  {
   "cell_type": "code",
   "execution_count": 35,
   "metadata": {},
   "outputs": [
    {
     "data": {
      "image/png": "[encoded data removed]",
      "text/plain": [
       "<Figure size 648x648 with 1 Axes>"
      ]
     },
     "metadata": {
      "needs_background": "light"
     },
     "output_type": "display_data"
    }
   ],
   "source": [
    "pd.DataFrame(y_probability).plot.hist(figsize=(9,9)); # Plot the distribution\n"
   ]
  },
  {
   "cell_type": "code",
   "execution_count": 19,
   "metadata": {},
   "outputs": [
    {
     "data": {
      "text/plain": [
       "<AxesSubplot:ylabel='Frequency'>"
      ]
     },
     "execution_count": 19,
     "metadata": {},
     "output_type": "execute_result"
    },
    {
     "data": {
      "image/png": "[encoded data removed]",
      "text/plain": [
       "<Figure size 648x648 with 1 Axes>"
      ]
     },
     "metadata": {
      "needs_background": "light"
     },
     "output_type": "display_data"
    },
    {
     "data": {
      "image/png": "[encoded data removed]",
      "text/plain": [
       "<Figure size 648x648 with 1 Axes>"
      ]
     },
     "metadata": {
      "needs_background": "light"
     },
     "output_type": "display_data"
    }
   ],
   "source": [
    "pd.DataFrame(y_probability).plot(kind=\"density\",figsize=(9,9))\n",
    "pd.DataFrame(y_probability).plot.hist(figsize=(9,9))\n",
    "#df[\"Test_1\"].plot.hist(normed=True) # Histogram will now be normalized"
   ]
  },
  {
   "cell_type": "code",
   "execution_count": null,
   "metadata": {},
   "outputs": [],
   "source": []
  },
  {
   "cell_type": "code",
   "execution_count": null,
   "metadata": {},
   "outputs": [],
   "source": []
  },
  {
   "cell_type": "code",
   "execution_count": null,
   "metadata": {},
   "outputs": [],
   "source": []
  },
  {
   "cell_type": "code",
   "execution_count": null,
   "metadata": {},
   "outputs": [],
   "source": []
  },
  {
   "cell_type": "code",
   "execution_count": null,
   "metadata": {},
   "outputs": [],
   "source": []
  },
  {
   "cell_type": "code",
   "execution_count": null,
   "metadata": {},
   "outputs": [],
   "source": []
  },
  {
   "cell_type": "code",
   "execution_count": null,
   "metadata": {},
   "outputs": [],
   "source": []
  },
  {
   "cell_type": "code",
   "execution_count": null,
   "metadata": {},
   "outputs": [],
   "source": []
  },
  {
   "cell_type": "code",
   "execution_count": null,
   "metadata": {},
   "outputs": [],
   "source": []
  },
  {
   "cell_type": "code",
   "execution_count": null,
   "metadata": {},
   "outputs": [],
   "source": []
  },
  {
   "cell_type": "code",
   "execution_count": null,
   "metadata": {},
   "outputs": [],
   "source": []
  },
  {
   "cell_type": "markdown",
   "metadata": {},
   "source": [
    "## from website (https://chemandy.com/calculators/microstrip-transmission-line-calculator.htm)"
   ]
  },
  {
   "cell_type": "code",
   "execution_count": 3,
   "metadata": {},
   "outputs": [
    {
     "name": "stdout",
     "output_type": "stream",
     "text": [
      "0.07262119157889464\n",
      "0.04696337893431332\n",
      "3.408554862674253\n",
      "46.39\n"
     ]
    }
   ],
   "source": [
    "epsilon_r=4.53 # Relative Dielectric Constant ( εr ):\n",
    "w=0.276 # Track Width\n",
    "t=0.050# Track Thickness\n",
    "h=0.150  # Dielectric Thickness\n",
    "\n",
    "aa=((epsilon_r+1)/2)\n",
    "bb=((epsilon_r-1)/2)\n",
    "cc=1/(math.sqrt(1+((12*h)/w)))\n",
    "\n",
    "if w<h:\n",
    "    epsilon_effect=aa+(bb*(cc+(0.04*((1-(w/h))**2)))) #if w<h\n",
    "else:\n",
    "    epsilon_effect=aa+(bb*cc) # else    \n",
    "    \n",
    "    \n",
    "a=((t/h)**2)\n",
    "b=(((1/PI)/((w/t)+1.1))**2)\n",
    "delta_w=t/PI* np.log((4*e)/(a+b))\n",
    "delta_w_prime=delta_w*((1+(1/epsilon_effect))/2)\n",
    "w_prime=w+delta_w_prime\n",
    "dd= (120*PI)/((2.0)*(math.sqrt(2.0))*(PI)*(math.sqrt(epsilon_r+1.0)))\n",
    "ee=((14.0+(8.0/epsilon_effect))/11.0)*((4.0*h)/w_prime)\n",
    "ff=(((14.0+(8.0/epsilon_effect))/11.0)**2.0)*((4.0*h/w_prime)**2.0)\n",
    "gg=(PI**2)*((1.0+(1.0/epsilon_effect))/2.0)\n",
    "hh=math.sqrt(ff+gg)\n",
    "ii=((4.0*h)/w_prime)*(ee+hh)\n",
    "z=dd*np.log(1.0+ii)\n",
    "\n",
    "print(delta_w)\n",
    "print(delta_w_prime)\n",
    "print(epsilon_effect)\n",
    "print(round(z, 2)) # rounding the nimbers to two digits after comma\n"
   ]
  },
  {
   "cell_type": "code",
   "execution_count": 4,
   "metadata": {},
   "outputs": [
    {
     "name": "stdout",
     "output_type": "stream",
     "text": [
      "[3, 57, 35, 6, 8, 9, 11]\n"
     ]
    }
   ],
   "source": [
    "A=[1,55,33,4,6,7,9]\n",
    "B=[]\n",
    "for i in range(0,len(A)):\n",
    "    f=2+A[i]\n",
    "    B.append(f)\n",
    "print(B)"
   ]
  },
  {
   "cell_type": "markdown",
   "metadata": {},
   "source": [
    "# (Generating random number in  a particular range )"
   ]
  },
  {
   "cell_type": "code",
   "execution_count": 7,
   "metadata": {},
   "outputs": [],
   "source": [
    "# lets also define the function we want to calculate  over f(x)\n",
    "\n",
    "def f_of_x(epsilon_r,w,t,h):\n",
    "    aa=((epsilon_r+1)/2)\n",
    "    bb=((epsilon_r-1)/2)\n",
    "    cc=1/(math.sqrt(1+((12*h)/w)))\n",
    "\n",
    "    if w<h:\n",
    "        epsilon_effect=aa+(bb*(cc+(0.04*((1-(w/h))**2)))) #if w<h\n",
    "    else:\n",
    "        epsilon_effect=aa+(bb*cc) # else    \n",
    "    \n",
    "    \n",
    "    a=((t/h)**2)\n",
    "    b=(((1/PI)/((w/t)+1.1))**2)\n",
    "    delta_w=t/PI* np.log((4*e)/(a+b))\n",
    "    delta_w_prime=delta_w*((1+(1/epsilon_effect))/2)\n",
    "    w_prime=w+delta_w_prime\n",
    "    dd= (120*PI)/((2.0)*(math.sqrt(2.0))*(PI)*(math.sqrt(epsilon_r+1.0)))\n",
    "    ee=((14.0+(8.0/epsilon_effect))/11.0)*((4.0*h)/w_prime)\n",
    "    ff=(((14.0+(8.0/epsilon_effect))/11.0)**2.0)*((4.0*h/w_prime)**2.0)\n",
    "    gg=(PI**2)*((1.0+(1.0/epsilon_effect))/2.0)\n",
    "    hh=math.sqrt(ff+gg)\n",
    "    ii=((4.0*h)/w_prime)*(ee+hh)\n",
    "    z=dd*np.log(1.0+ii)\n",
    "    zz=round(z, 2)\n",
    "   \n",
    "    return zz\n",
    "\n"
   ]
  },
  {
   "cell_type": "code",
   "execution_count": 5,
   "metadata": {},
   "outputs": [],
   "source": [
    "def get_rand_number(min_value, max_value):\n",
    "    \"\"\"\n",
    "    This function gets a random number from a uniform distribution between\n",
    "    the two input values [min_value, max_value] inclusively\n",
    "    Args:\n",
    "    - min_value (float)\n",
    "    - max_value (float)\n",
    "    Return:\n",
    "    - Random number between this range (float)\n",
    "    \"\"\"\n",
    "    range = max_value - min_value\n",
    "    choice = random.uniform(0,1\n",
    "    return min_value + range*choice"
   ]
  },
  {
   "cell_type": "code",
   "execution_count": 10,
   "metadata": {},
   "outputs": [
    {
     "name": "stdout",
     "output_type": "stream",
     "text": [
      "[5.373437665461037, 4.559696677530899, 5.462969942847208, 5.322556637329063, 2.0104506546283725, 5.996141213861152, 2.0476855823623366, 5.3086032552683085, 5.388990085860963, 1.2566280503127145]\n"
     ]
    }
   ],
   "source": [
    "# play************\n",
    "y111=[]\n",
    "for i in range(10):\n",
    "    y111.append(get_rand_number(1,6))\n",
    "print(y111)\n"
   ]
  },
  {
   "cell_type": "code",
   "execution_count": 11,
   "metadata": {},
   "outputs": [],
   "source": [
    "# lets also define the function we want to calculate  over f(x)\n",
    "\n",
    "def f_of_x(x,z):\n",
    "    \"\"\"\n",
    "    This is the main function we want to calculate  over duration.\n",
    "    Args:\n",
    "    - x (float), z(float) : input to function; \n",
    "    Return:\n",
    "    - output of function f(x) (float)\n",
    "    \"\"\"\n",
    "    return (5*x)+(2*z)+5 \n",
    "\n"
   ]
  },
  {
   "cell_type": "markdown",
   "metadata": {},
   "source": [
    "# Crude Monte Carlo\n"
   ]
  },
  {
   "cell_type": "code",
   "execution_count": 12,
   "metadata": {},
   "outputs": [],
   "source": [
    "def crude_monte_carlo(num_samples=5000):\n",
    "    \"\"\"\n",
    "    This function performs the Crude Monte Carlo for our\n",
    "   \n",
    "    Args:\n",
    "    - num_samples (float) : number of samples\n",
    "    Return:\n",
    "    - Crude Monte Carlo estimation (float)\n",
    "    - range  of variables\n",
    "    \"\"\"\n",
    "    lower_bound = 0\n",
    "    upper_bound = 4\n",
    "    y_probability=[]\n",
    "    sum_of_samples = 0\n",
    "    for i in range(num_samples):\n",
    "        x = get_rand_number(lower_bound, upper_bound)\n",
    "        z = get_rand_number(lower_bound, upper_bound)\n",
    "        sum_of_samples += f_of_x(x,z)\n",
    "        y_probability.append(f_of_x(x,z))\n",
    "        \n",
    "    return  float(sum_of_samples/num_samples),y_probability"
   ]
  },
  {
   "cell_type": "markdown",
   "metadata": {},
   "source": [
    "# Test the algorithm"
   ]
  },
  {
   "cell_type": "code",
   "execution_count": 26,
   "metadata": {},
   "outputs": [
    {
     "name": "stdout",
     "output_type": "stream",
     "text": [
      "Monte Carlo Approximation of f(x): 19.17030956032332\n",
      "the length of produced output array = 1000 items\n"
     ]
    }
   ],
   "source": [
    "crude_estimation = crude_monte_carlo(1000)\n",
    "y_probability=crude_estimation[1]\n",
    "print(f\"Monte Carlo Approximation of f(x): {crude_estimation[0]}\")\n",
    "print(f\"the length of produced output array = {len(y_probability)} items\")\n"
   ]
  },
  {
   "cell_type": "code",
   "execution_count": 38,
   "metadata": {},
   "outputs": [
    {
     "name": "stdout",
     "output_type": "stream",
     "text": [
      "[12.315988272255009, 23.51257408113904, 23.651522532637006]\n"
     ]
    }
   ],
   "source": [
    "print(y_probability[1:4])"
   ]
  },
  {
   "cell_type": "markdown",
   "metadata": {},
   "source": [
    "# probability distribution of the produced array"
   ]
  },
  {
   "cell_type": "code",
   "execution_count": 47,
   "metadata": {},
   "outputs": [
    {
     "data": {
      "image/png": "[encoded data removed]",
      "text/plain": [
       "<Figure size 648x648 with 1 Axes>"
      ]
     },
     "metadata": {
      "needs_background": "light"
     },
     "output_type": "display_data"
    }
   ],
   "source": [
    "pd.DataFrame(y_probability).plot(kind=\"density\",figsize=(9,9)); # Plot the distribution\n",
    "                              "
   ]
  },
  {
   "cell_type": "code",
   "execution_count": null,
   "metadata": {},
   "outputs": [],
   "source": []
  }
 ],
 "metadata": {
  "kernelspec": {
   "display_name": "Python 3",
   "language": "python",
   "name": "python3"
  },
  "language_info": {
   "codemirror_mode": {
    "name": "ipython",
    "version": 3
   },
   "file_extension": ".py",
   "mimetype": "text/x-python",
   "name": "python",
   "nbconvert_exporter": "python",
   "pygments_lexer": "ipython3",
   "version": "3.8.5"
  }
 },
 "nbformat": 4,
 "nbformat_minor": 4
}
