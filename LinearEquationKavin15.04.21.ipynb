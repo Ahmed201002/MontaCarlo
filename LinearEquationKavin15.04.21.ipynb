{
 "cells": [
  {
   "cell_type": "code",
   "execution_count": 31,
   "metadata": {},
   "outputs": [],
   "source": [
    "import numpy as np                                   #to o find the minimum argument of a list \n",
    "import math                                          #for defining our functions\n",
    "import random                                        #it will be used for sampling\n",
    "from matplotlib import pyplot as plt                 # help visualize our results \n",
    "from IPython.display import clear_output\n",
    "import pandas as pd\n",
    "import scipy.stats as stats\n",
    "PI = 3.1415926\n",
    "e = 2.71828\n"
   ]
  },
  {
   "cell_type": "markdown",
   "metadata": {},
   "source": [
    "# (Generating random number in  a particular range + defining the function)"
   ]
  },
  {
   "cell_type": "code",
   "execution_count": 9,
   "metadata": {},
   "outputs": [],
   "source": [
    "def get_rand_number(min_value, max_value):\n",
    "    \"\"\"\n",
    "    This function gets a random number from a uniform distribution between\n",
    "    the two input values [min_value, max_value] inclusively\n",
    "    Args:\n",
    "    - min_value (float)\n",
    "    - max_value (float)\n",
    "    Return:\n",
    "    - Random number between this range (float)\n",
    "    \"\"\"\n",
    "    range = max_value - min_value\n",
    "    choice = random.uniform(0,1)\n",
    "    return min_value + range*choice"
   ]
  },
  {
   "cell_type": "code",
   "execution_count": 10,
   "metadata": {},
   "outputs": [
    {
     "name": "stdout",
     "output_type": "stream",
     "text": [
      "[5.373437665461037, 4.559696677530899, 5.462969942847208, 5.322556637329063, 2.0104506546283725, 5.996141213861152, 2.0476855823623366, 5.3086032552683085, 5.388990085860963, 1.2566280503127145]\n"
     ]
    }
   ],
   "source": [
    "# play************\n",
    "y111=[]\n",
    "for i in range(10):\n",
    "    y111.append(get_rand_number(1,6))\n",
    "print(y111)\n"
   ]
  },
  {
   "cell_type": "code",
   "execution_count": 11,
   "metadata": {},
   "outputs": [],
   "source": [
    "# lets also define the function we want to calculate  over f(x)\n",
    "\n",
    "def f_of_x(x,z):\n",
    "    \"\"\"\n",
    "    This is the main function we want to calculate  over duration.\n",
    "    Args:\n",
    "    - x (float), z(float) : input to function; \n",
    "    Return:\n",
    "    - output of function f(x) (float)\n",
    "    \"\"\"\n",
    "    return (5*x)+(2*z)+5 \n",
    "\n"
   ]
  },
  {
   "cell_type": "markdown",
   "metadata": {},
   "source": [
    "# Crude Monte Carlo\n"
   ]
  },
  {
   "cell_type": "code",
   "execution_count": 12,
   "metadata": {},
   "outputs": [],
   "source": [
    "def crude_monte_carlo(num_samples=5000):\n",
    "    \"\"\"\n",
    "    This function performs the Crude Monte Carlo for our\n",
    "   \n",
    "    Args:\n",
    "    - num_samples (float) : number of samples\n",
    "    Return:\n",
    "    - Crude Monte Carlo estimation (float)\n",
    "    - range  of variables\n",
    "    \"\"\"\n",
    "    lower_bound = 0\n",
    "    upper_bound = 4\n",
    "    y_probability=[]\n",
    "    sum_of_samples = 0\n",
    "    for i in range(num_samples):\n",
    "        x = get_rand_number(lower_bound, upper_bound)\n",
    "        z = get_rand_number(lower_bound, upper_bound)\n",
    "        sum_of_samples += f_of_x(x,z)\n",
    "        y_probability.append(f_of_x(x,z))\n",
    "        \n",
    "    return  float(sum_of_samples/num_samples),y_probability"
   ]
  },
  {
   "cell_type": "markdown",
   "metadata": {},
   "source": [
    "# Test the algorithm"
   ]
  },
  {
   "cell_type": "code",
   "execution_count": 26,
   "metadata": {},
   "outputs": [
    {
     "name": "stdout",
     "output_type": "stream",
     "text": [
      "Monte Carlo Approximation of f(x): 19.17030956032332\n",
      "the length of produced output array = 1000 items\n"
     ]
    }
   ],
   "source": [
    "crude_estimation = crude_monte_carlo(1000)\n",
    "y_probability=crude_estimation[1]\n",
    "print(f\"Monte Carlo Approximation of f(x): {crude_estimation[0]}\")\n",
    "print(f\"the length of produced output array = {len(y_probability)} items\")\n"
   ]
  },
  {
   "cell_type": "code",
   "execution_count": 38,
   "metadata": {},
   "outputs": [
    {
     "name": "stdout",
     "output_type": "stream",
     "text": [
      "[12.315988272255009, 23.51257408113904, 23.651522532637006]\n"
     ]
    }
   ],
   "source": [
    "print(y_probability[1:4])"
   ]
  },
  {
   "cell_type": "markdown",
   "metadata": {},
   "source": [
    "# probability distribution of the produced array"
   ]
  },
  {
   "cell_type": "code",
   "execution_count": 47,
   "metadata": {},
   "outputs": [
    {
     "data": {
      "image/png": "[encoded data removed]",
      "text/plain": [
       "<Figure size 648x648 with 1 Axes>"
      ]
     },
     "metadata": {
      "needs_background": "light"
     },
     "output_type": "display_data"
    }
   ],
   "source": [
    "pd.DataFrame(y_probability).plot(kind=\"density\",figsize=(9,9)); # Plot the distribution\n",
    "                              "
   ]
  },
  {
   "cell_type": "code",
   "execution_count": null,
   "metadata": {},
   "outputs": [],
   "source": []
  }
 ],
 "metadata": {
  "kernelspec": {
   "display_name": "Python 3",
   "language": "python",
   "name": "python3"
  },
  "language_info": {
   "codemirror_mode": {
    "name": "ipython",
    "version": 3
   },
   "file_extension": ".py",
   "mimetype": "text/x-python",
   "name": "python",
   "nbconvert_exporter": "python",
   "pygments_lexer": "ipython3",
   "version": "3.8.5"
  }
 },
 "nbformat": 4,
 "nbformat_minor": 4
}
