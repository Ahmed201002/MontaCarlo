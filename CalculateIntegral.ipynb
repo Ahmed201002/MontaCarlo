{
 "cells": [
  {
   "cell_type": "code",
   "execution_count": 1,
   "metadata": {},
   "outputs": [
    {
     "name": "stdout",
     "output_type": "stream",
     "text": [
      " the integral from 0 to pi of sin(x):  1.9987624112373163\n"
     ]
    }
   ],
   "source": [
    "# In This code we will solve Itegral problem with help of Monta Carlo algorithm \n",
    "%matplotlib inline\n",
    "from scipy import random\n",
    "import numpy as np\n",
    "import matplotlib.pyplot as plt\n",
    "a=0\n",
    "b=np.pi # \n",
    "N=1010000\n",
    "xrand=np.zeros(N)\n",
    "\n",
    "for i in range(len(xrand)):\n",
    "    xrand[i]=random.uniform(a,b)\n",
    "\n",
    "def func(x):\n",
    "    return np.sin(x)\n",
    "integral=0.0\n",
    "for i in range(N):\n",
    "    integral+= func(xrand[i])\n",
    "    \n",
    "answer=(b-a)/float(N)*integral\n",
    "print(\" the integral from 0 to pi of sin(x): \", answer)"
   ]
  },
  {
   "cell_type": "code",
   "execution_count": null,
   "metadata": {},
   "outputs": [],
   "source": []
  }
 ],
 "metadata": {
  "kernelspec": {
   "display_name": "Python 3",
   "language": "python",
   "name": "python3"
  },
  "language_info": {
   "codemirror_mode": {
    "name": "ipython",
    "version": 3
   },
   "file_extension": ".py",
   "mimetype": "text/x-python",
   "name": "python",
   "nbconvert_exporter": "python",
   "pygments_lexer": "ipython3",
   "version": "3.8.5"
  }
 },
 "nbformat": 4,
 "nbformat_minor": 4
}
